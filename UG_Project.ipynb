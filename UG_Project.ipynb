{
  "nbformat": 4,
  "nbformat_minor": 0,
  "metadata": {
    "colab": {
      "provenance": []
    },
    "kernelspec": {
      "name": "python3",
      "display_name": "Python 3"
    },
    "language_info": {
      "name": "python"
    }
  },
  "cells": [
    {
      "cell_type": "code",
      "execution_count": null,
      "metadata": {
        "id": "pNVDz6usw9JK"
      },
      "outputs": [],
      "source": [
        "import pandas as pd"
      ]
    },
    {
      "cell_type": "code",
      "source": [
        "df = pd.read_csv('Final (1) (1).csv')"
      ],
      "metadata": {
        "id": "jdGhCgUgx46Q"
      },
      "execution_count": null,
      "outputs": []
    },
    {
      "cell_type": "code",
      "source": [
        "df.head(10)"
      ],
      "metadata": {
        "colab": {
          "base_uri": "https://localhost:8080/",
          "height": 363
        },
        "id": "49ARRcZSyCXu",
        "outputId": "1bc2895f-fe2e-4708-f22a-ffe0f7f3a9c5"
      },
      "execution_count": null,
      "outputs": [
        {
          "output_type": "execute_result",
          "data": {
            "text/plain": [
              "       Date  Month Weather  Season   Week day  No. of trucks          Route  \\\n",
              "0  96.03.01    3.0   Sunny  Spring     Monday           29.0  M4 to Factory   \n",
              "1  96.03.02    3.0   Sunny  Spring    Tuesday           27.0  M4 to Factory   \n",
              "2  96.03.03    3.0   Sunny  Spring  Wednesday           13.0  M4 to Factory   \n",
              "3  96.03.04    3.0   Sunny  Spring   Thursday           21.0  M4 to Factory   \n",
              "4  96.03.06    3.0   Sunny  Spring   Saturday           15.0  M4 to Factory   \n",
              "5  96.03.07    3.0   Sunny  Spring     Sunday           17.0  M4 to Factory   \n",
              "6  96.03.08    3.0   Sunny  Spring     Monday           15.0  M4 to Factory   \n",
              "7  96.03.09    3.0   Sunny  Spring    Tuesday           16.0  M4 to Factory   \n",
              "8  96.03.10    3.0   Sunny  Spring  Wednesday           19.0  M4 to Factory   \n",
              "9  96.03.11    3.0   Sunny  Spring   Thursday           17.0  M4 to Factory   \n",
              "\n",
              "        Loader  Hauled ore  \n",
              "0  Hyundai 320     5892.51  \n",
              "1  Hyundai 320     5895.40  \n",
              "2  Hyundai 320     1924.89  \n",
              "3  Hyundai 320     3764.25  \n",
              "4  Hyundai 320     2143.39  \n",
              "5  Hyundai 320     2653.71  \n",
              "6  Hyundai 320     2256.95  \n",
              "7  Hyundai 320     2727.16  \n",
              "8  Hyundai 320     3747.37  \n",
              "9  Hyundai 320     3169.47  "
            ],
            "text/html": [
              "\n",
              "  <div id=\"df-be937167-8573-4241-b1e7-2d2fe4c13c89\" class=\"colab-df-container\">\n",
              "    <div>\n",
              "<style scoped>\n",
              "    .dataframe tbody tr th:only-of-type {\n",
              "        vertical-align: middle;\n",
              "    }\n",
              "\n",
              "    .dataframe tbody tr th {\n",
              "        vertical-align: top;\n",
              "    }\n",
              "\n",
              "    .dataframe thead th {\n",
              "        text-align: right;\n",
              "    }\n",
              "</style>\n",
              "<table border=\"1\" class=\"dataframe\">\n",
              "  <thead>\n",
              "    <tr style=\"text-align: right;\">\n",
              "      <th></th>\n",
              "      <th>Date</th>\n",
              "      <th>Month</th>\n",
              "      <th>Weather</th>\n",
              "      <th>Season</th>\n",
              "      <th>Week day</th>\n",
              "      <th>No. of trucks</th>\n",
              "      <th>Route</th>\n",
              "      <th>Loader</th>\n",
              "      <th>Hauled ore</th>\n",
              "    </tr>\n",
              "  </thead>\n",
              "  <tbody>\n",
              "    <tr>\n",
              "      <th>0</th>\n",
              "      <td>96.03.01</td>\n",
              "      <td>3.0</td>\n",
              "      <td>Sunny</td>\n",
              "      <td>Spring</td>\n",
              "      <td>Monday</td>\n",
              "      <td>29.0</td>\n",
              "      <td>M4 to Factory</td>\n",
              "      <td>Hyundai 320</td>\n",
              "      <td>5892.51</td>\n",
              "    </tr>\n",
              "    <tr>\n",
              "      <th>1</th>\n",
              "      <td>96.03.02</td>\n",
              "      <td>3.0</td>\n",
              "      <td>Sunny</td>\n",
              "      <td>Spring</td>\n",
              "      <td>Tuesday</td>\n",
              "      <td>27.0</td>\n",
              "      <td>M4 to Factory</td>\n",
              "      <td>Hyundai 320</td>\n",
              "      <td>5895.40</td>\n",
              "    </tr>\n",
              "    <tr>\n",
              "      <th>2</th>\n",
              "      <td>96.03.03</td>\n",
              "      <td>3.0</td>\n",
              "      <td>Sunny</td>\n",
              "      <td>Spring</td>\n",
              "      <td>Wednesday</td>\n",
              "      <td>13.0</td>\n",
              "      <td>M4 to Factory</td>\n",
              "      <td>Hyundai 320</td>\n",
              "      <td>1924.89</td>\n",
              "    </tr>\n",
              "    <tr>\n",
              "      <th>3</th>\n",
              "      <td>96.03.04</td>\n",
              "      <td>3.0</td>\n",
              "      <td>Sunny</td>\n",
              "      <td>Spring</td>\n",
              "      <td>Thursday</td>\n",
              "      <td>21.0</td>\n",
              "      <td>M4 to Factory</td>\n",
              "      <td>Hyundai 320</td>\n",
              "      <td>3764.25</td>\n",
              "    </tr>\n",
              "    <tr>\n",
              "      <th>4</th>\n",
              "      <td>96.03.06</td>\n",
              "      <td>3.0</td>\n",
              "      <td>Sunny</td>\n",
              "      <td>Spring</td>\n",
              "      <td>Saturday</td>\n",
              "      <td>15.0</td>\n",
              "      <td>M4 to Factory</td>\n",
              "      <td>Hyundai 320</td>\n",
              "      <td>2143.39</td>\n",
              "    </tr>\n",
              "    <tr>\n",
              "      <th>5</th>\n",
              "      <td>96.03.07</td>\n",
              "      <td>3.0</td>\n",
              "      <td>Sunny</td>\n",
              "      <td>Spring</td>\n",
              "      <td>Sunday</td>\n",
              "      <td>17.0</td>\n",
              "      <td>M4 to Factory</td>\n",
              "      <td>Hyundai 320</td>\n",
              "      <td>2653.71</td>\n",
              "    </tr>\n",
              "    <tr>\n",
              "      <th>6</th>\n",
              "      <td>96.03.08</td>\n",
              "      <td>3.0</td>\n",
              "      <td>Sunny</td>\n",
              "      <td>Spring</td>\n",
              "      <td>Monday</td>\n",
              "      <td>15.0</td>\n",
              "      <td>M4 to Factory</td>\n",
              "      <td>Hyundai 320</td>\n",
              "      <td>2256.95</td>\n",
              "    </tr>\n",
              "    <tr>\n",
              "      <th>7</th>\n",
              "      <td>96.03.09</td>\n",
              "      <td>3.0</td>\n",
              "      <td>Sunny</td>\n",
              "      <td>Spring</td>\n",
              "      <td>Tuesday</td>\n",
              "      <td>16.0</td>\n",
              "      <td>M4 to Factory</td>\n",
              "      <td>Hyundai 320</td>\n",
              "      <td>2727.16</td>\n",
              "    </tr>\n",
              "    <tr>\n",
              "      <th>8</th>\n",
              "      <td>96.03.10</td>\n",
              "      <td>3.0</td>\n",
              "      <td>Sunny</td>\n",
              "      <td>Spring</td>\n",
              "      <td>Wednesday</td>\n",
              "      <td>19.0</td>\n",
              "      <td>M4 to Factory</td>\n",
              "      <td>Hyundai 320</td>\n",
              "      <td>3747.37</td>\n",
              "    </tr>\n",
              "    <tr>\n",
              "      <th>9</th>\n",
              "      <td>96.03.11</td>\n",
              "      <td>3.0</td>\n",
              "      <td>Sunny</td>\n",
              "      <td>Spring</td>\n",
              "      <td>Thursday</td>\n",
              "      <td>17.0</td>\n",
              "      <td>M4 to Factory</td>\n",
              "      <td>Hyundai 320</td>\n",
              "      <td>3169.47</td>\n",
              "    </tr>\n",
              "  </tbody>\n",
              "</table>\n",
              "</div>\n",
              "    <div class=\"colab-df-buttons\">\n",
              "\n",
              "  <div class=\"colab-df-container\">\n",
              "    <button class=\"colab-df-convert\" onclick=\"convertToInteractive('df-be937167-8573-4241-b1e7-2d2fe4c13c89')\"\n",
              "            title=\"Convert this dataframe to an interactive table.\"\n",
              "            style=\"display:none;\">\n",
              "\n",
              "  <svg xmlns=\"http://www.w3.org/2000/svg\" height=\"24px\" viewBox=\"0 -960 960 960\">\n",
              "    <path d=\"M120-120v-720h720v720H120Zm60-500h600v-160H180v160Zm220 220h160v-160H400v160Zm0 220h160v-160H400v160ZM180-400h160v-160H180v160Zm440 0h160v-160H620v160ZM180-180h160v-160H180v160Zm440 0h160v-160H620v160Z\"/>\n",
              "  </svg>\n",
              "    </button>\n",
              "\n",
              "  <style>\n",
              "    .colab-df-container {\n",
              "      display:flex;\n",
              "      gap: 12px;\n",
              "    }\n",
              "\n",
              "    .colab-df-convert {\n",
              "      background-color: #E8F0FE;\n",
              "      border: none;\n",
              "      border-radius: 50%;\n",
              "      cursor: pointer;\n",
              "      display: none;\n",
              "      fill: #1967D2;\n",
              "      height: 32px;\n",
              "      padding: 0 0 0 0;\n",
              "      width: 32px;\n",
              "    }\n",
              "\n",
              "    .colab-df-convert:hover {\n",
              "      background-color: #E2EBFA;\n",
              "      box-shadow: 0px 1px 2px rgba(60, 64, 67, 0.3), 0px 1px 3px 1px rgba(60, 64, 67, 0.15);\n",
              "      fill: #174EA6;\n",
              "    }\n",
              "\n",
              "    .colab-df-buttons div {\n",
              "      margin-bottom: 4px;\n",
              "    }\n",
              "\n",
              "    [theme=dark] .colab-df-convert {\n",
              "      background-color: #3B4455;\n",
              "      fill: #D2E3FC;\n",
              "    }\n",
              "\n",
              "    [theme=dark] .colab-df-convert:hover {\n",
              "      background-color: #434B5C;\n",
              "      box-shadow: 0px 1px 3px 1px rgba(0, 0, 0, 0.15);\n",
              "      filter: drop-shadow(0px 1px 2px rgba(0, 0, 0, 0.3));\n",
              "      fill: #FFFFFF;\n",
              "    }\n",
              "  </style>\n",
              "\n",
              "    <script>\n",
              "      const buttonEl =\n",
              "        document.querySelector('#df-be937167-8573-4241-b1e7-2d2fe4c13c89 button.colab-df-convert');\n",
              "      buttonEl.style.display =\n",
              "        google.colab.kernel.accessAllowed ? 'block' : 'none';\n",
              "\n",
              "      async function convertToInteractive(key) {\n",
              "        const element = document.querySelector('#df-be937167-8573-4241-b1e7-2d2fe4c13c89');\n",
              "        const dataTable =\n",
              "          await google.colab.kernel.invokeFunction('convertToInteractive',\n",
              "                                                    [key], {});\n",
              "        if (!dataTable) return;\n",
              "\n",
              "        const docLinkHtml = 'Like what you see? Visit the ' +\n",
              "          '<a target=\"_blank\" href=https://colab.research.google.com/notebooks/data_table.ipynb>data table notebook</a>'\n",
              "          + ' to learn more about interactive tables.';\n",
              "        element.innerHTML = '';\n",
              "        dataTable['output_type'] = 'display_data';\n",
              "        await google.colab.output.renderOutput(dataTable, element);\n",
              "        const docLink = document.createElement('div');\n",
              "        docLink.innerHTML = docLinkHtml;\n",
              "        element.appendChild(docLink);\n",
              "      }\n",
              "    </script>\n",
              "  </div>\n",
              "\n",
              "\n",
              "<div id=\"df-015d7822-d571-4f97-8946-8c184ae737b1\">\n",
              "  <button class=\"colab-df-quickchart\" onclick=\"quickchart('df-015d7822-d571-4f97-8946-8c184ae737b1')\"\n",
              "            title=\"Suggest charts\"\n",
              "            style=\"display:none;\">\n",
              "\n",
              "<svg xmlns=\"http://www.w3.org/2000/svg\" height=\"24px\"viewBox=\"0 0 24 24\"\n",
              "     width=\"24px\">\n",
              "    <g>\n",
              "        <path d=\"M19 3H5c-1.1 0-2 .9-2 2v14c0 1.1.9 2 2 2h14c1.1 0 2-.9 2-2V5c0-1.1-.9-2-2-2zM9 17H7v-7h2v7zm4 0h-2V7h2v10zm4 0h-2v-4h2v4z\"/>\n",
              "    </g>\n",
              "</svg>\n",
              "  </button>\n",
              "\n",
              "<style>\n",
              "  .colab-df-quickchart {\n",
              "      --bg-color: #E8F0FE;\n",
              "      --fill-color: #1967D2;\n",
              "      --hover-bg-color: #E2EBFA;\n",
              "      --hover-fill-color: #174EA6;\n",
              "      --disabled-fill-color: #AAA;\n",
              "      --disabled-bg-color: #DDD;\n",
              "  }\n",
              "\n",
              "  [theme=dark] .colab-df-quickchart {\n",
              "      --bg-color: #3B4455;\n",
              "      --fill-color: #D2E3FC;\n",
              "      --hover-bg-color: #434B5C;\n",
              "      --hover-fill-color: #FFFFFF;\n",
              "      --disabled-bg-color: #3B4455;\n",
              "      --disabled-fill-color: #666;\n",
              "  }\n",
              "\n",
              "  .colab-df-quickchart {\n",
              "    background-color: var(--bg-color);\n",
              "    border: none;\n",
              "    border-radius: 50%;\n",
              "    cursor: pointer;\n",
              "    display: none;\n",
              "    fill: var(--fill-color);\n",
              "    height: 32px;\n",
              "    padding: 0;\n",
              "    width: 32px;\n",
              "  }\n",
              "\n",
              "  .colab-df-quickchart:hover {\n",
              "    background-color: var(--hover-bg-color);\n",
              "    box-shadow: 0 1px 2px rgba(60, 64, 67, 0.3), 0 1px 3px 1px rgba(60, 64, 67, 0.15);\n",
              "    fill: var(--button-hover-fill-color);\n",
              "  }\n",
              "\n",
              "  .colab-df-quickchart-complete:disabled,\n",
              "  .colab-df-quickchart-complete:disabled:hover {\n",
              "    background-color: var(--disabled-bg-color);\n",
              "    fill: var(--disabled-fill-color);\n",
              "    box-shadow: none;\n",
              "  }\n",
              "\n",
              "  .colab-df-spinner {\n",
              "    border: 2px solid var(--fill-color);\n",
              "    border-color: transparent;\n",
              "    border-bottom-color: var(--fill-color);\n",
              "    animation:\n",
              "      spin 1s steps(1) infinite;\n",
              "  }\n",
              "\n",
              "  @keyframes spin {\n",
              "    0% {\n",
              "      border-color: transparent;\n",
              "      border-bottom-color: var(--fill-color);\n",
              "      border-left-color: var(--fill-color);\n",
              "    }\n",
              "    20% {\n",
              "      border-color: transparent;\n",
              "      border-left-color: var(--fill-color);\n",
              "      border-top-color: var(--fill-color);\n",
              "    }\n",
              "    30% {\n",
              "      border-color: transparent;\n",
              "      border-left-color: var(--fill-color);\n",
              "      border-top-color: var(--fill-color);\n",
              "      border-right-color: var(--fill-color);\n",
              "    }\n",
              "    40% {\n",
              "      border-color: transparent;\n",
              "      border-right-color: var(--fill-color);\n",
              "      border-top-color: var(--fill-color);\n",
              "    }\n",
              "    60% {\n",
              "      border-color: transparent;\n",
              "      border-right-color: var(--fill-color);\n",
              "    }\n",
              "    80% {\n",
              "      border-color: transparent;\n",
              "      border-right-color: var(--fill-color);\n",
              "      border-bottom-color: var(--fill-color);\n",
              "    }\n",
              "    90% {\n",
              "      border-color: transparent;\n",
              "      border-bottom-color: var(--fill-color);\n",
              "    }\n",
              "  }\n",
              "</style>\n",
              "\n",
              "  <script>\n",
              "    async function quickchart(key) {\n",
              "      const quickchartButtonEl =\n",
              "        document.querySelector('#' + key + ' button');\n",
              "      quickchartButtonEl.disabled = true;  // To prevent multiple clicks.\n",
              "      quickchartButtonEl.classList.add('colab-df-spinner');\n",
              "      try {\n",
              "        const charts = await google.colab.kernel.invokeFunction(\n",
              "            'suggestCharts', [key], {});\n",
              "      } catch (error) {\n",
              "        console.error('Error during call to suggestCharts:', error);\n",
              "      }\n",
              "      quickchartButtonEl.classList.remove('colab-df-spinner');\n",
              "      quickchartButtonEl.classList.add('colab-df-quickchart-complete');\n",
              "    }\n",
              "    (() => {\n",
              "      let quickchartButtonEl =\n",
              "        document.querySelector('#df-015d7822-d571-4f97-8946-8c184ae737b1 button');\n",
              "      quickchartButtonEl.style.display =\n",
              "        google.colab.kernel.accessAllowed ? 'block' : 'none';\n",
              "    })();\n",
              "  </script>\n",
              "</div>\n",
              "\n",
              "    </div>\n",
              "  </div>\n"
            ],
            "application/vnd.google.colaboratory.intrinsic+json": {
              "type": "dataframe",
              "variable_name": "df",
              "summary": "{\n  \"name\": \"df\",\n  \"rows\": 1976,\n  \"fields\": [\n    {\n      \"column\": \"Date\",\n      \"properties\": {\n        \"dtype\": \"string\",\n        \"num_unique_values\": 1340,\n        \"samples\": [\n          \"97.03.12\",\n          \"99.03.27\",\n          \"97.10.26\"\n        ],\n        \"semantic_type\": \"\",\n        \"description\": \"\"\n      }\n    },\n    {\n      \"column\": \"Month\",\n      \"properties\": {\n        \"dtype\": \"number\",\n        \"std\": 3.2939313357215383,\n        \"min\": 1.0,\n        \"max\": 12.0,\n        \"num_unique_values\": 12,\n        \"samples\": [\n          1.0,\n          12.0,\n          3.0\n        ],\n        \"semantic_type\": \"\",\n        \"description\": \"\"\n      }\n    },\n    {\n      \"column\": \"Weather\",\n      \"properties\": {\n        \"dtype\": \"category\",\n        \"num_unique_values\": 5,\n        \"samples\": [\n          \"Rainy\",\n          \"Foggy\",\n          \"Cloudy\"\n        ],\n        \"semantic_type\": \"\",\n        \"description\": \"\"\n      }\n    },\n    {\n      \"column\": \"Season\",\n      \"properties\": {\n        \"dtype\": \"category\",\n        \"num_unique_values\": 4,\n        \"samples\": [\n          \"Summer\",\n          \"Winter\",\n          \"Spring\"\n        ],\n        \"semantic_type\": \"\",\n        \"description\": \"\"\n      }\n    },\n    {\n      \"column\": \"Week day\",\n      \"properties\": {\n        \"dtype\": \"category\",\n        \"num_unique_values\": 7,\n        \"samples\": [\n          \"Monday\",\n          \"Tuesday\",\n          \"Sunday\"\n        ],\n        \"semantic_type\": \"\",\n        \"description\": \"\"\n      }\n    },\n    {\n      \"column\": \"No. of trucks\",\n      \"properties\": {\n        \"dtype\": \"number\",\n        \"std\": 7.341524898043369,\n        \"min\": 0.0,\n        \"max\": 36.0,\n        \"num_unique_values\": 37,\n        \"samples\": [\n          14.0,\n          18.0,\n          15.0\n        ],\n        \"semantic_type\": \"\",\n        \"description\": \"\"\n      }\n    },\n    {\n      \"column\": \"Route\",\n      \"properties\": {\n        \"dtype\": \"category\",\n        \"num_unique_values\": 9,\n        \"samples\": [\n          \"M2 to LG-stockpile\",\n          \"Sup to Factory\",\n          \"LG-stockpile to Factory\"\n        ],\n        \"semantic_type\": \"\",\n        \"description\": \"\"\n      }\n    },\n    {\n      \"column\": \"Loader\",\n      \"properties\": {\n        \"dtype\": \"category\",\n        \"num_unique_values\": 4,\n        \"samples\": [\n          \"Hyundai 250\",\n          \"Komatsu 200\",\n          \"Hyundai 320\"\n        ],\n        \"semantic_type\": \"\",\n        \"description\": \"\"\n      }\n    },\n    {\n      \"column\": \"Hauled ore\",\n      \"properties\": {\n        \"dtype\": \"number\",\n        \"std\": 916.8042017556076,\n        \"min\": 0.0,\n        \"max\": 5895.4,\n        \"num_unique_values\": 1916,\n        \"samples\": [\n          373.77,\n          1477.49,\n          3759.42\n        ],\n        \"semantic_type\": \"\",\n        \"description\": \"\"\n      }\n    }\n  ]\n}"
            }
          },
          "metadata": {},
          "execution_count": 4
        }
      ]
    },
    {
      "cell_type": "code",
      "source": [
        "df.dropna()"
      ],
      "metadata": {
        "colab": {
          "base_uri": "https://localhost:8080/",
          "height": 424
        },
        "id": "Xhw2eVPpVtUc",
        "outputId": "3fe785ba-88eb-4174-bfa3-0e6ca701dc23"
      },
      "execution_count": null,
      "outputs": [
        {
          "output_type": "execute_result",
          "data": {
            "text/plain": [
              "          Date  Month Weather  Season   Week day  No. of trucks  \\\n",
              "0     96.03.01    3.0   Sunny  Spring     Monday           29.0   \n",
              "1     96.03.02    3.0   Sunny  Spring    Tuesday           27.0   \n",
              "2     96.03.03    3.0   Sunny  Spring  Wednesday           13.0   \n",
              "3     96.03.04    3.0   Sunny  Spring   Thursday           21.0   \n",
              "4     96.03.06    3.0   Sunny  Spring   Saturday           15.0   \n",
              "...        ...    ...     ...     ...        ...            ...   \n",
              "1971  00.03.24    3.0   Sunny  Spring     Monday            5.0   \n",
              "1972  00.03.25    3.0   Rainy  Spring    Tuesday            3.0   \n",
              "1973  00.03.26    3.0   Sunny  Spring  Wednesday            8.0   \n",
              "1974  00.03.27    3.0   Sunny  Spring   Thursday            8.0   \n",
              "1975  00.03.28    3.0   Sunny  Spring     Friday            8.0   \n",
              "\n",
              "              Route       Loader  Hauled ore  \n",
              "0     M4 to Factory  Hyundai 320     5892.51  \n",
              "1     M4 to Factory  Hyundai 320     5895.40  \n",
              "2     M4 to Factory  Hyundai 320     1924.89  \n",
              "3     M4 to Factory  Hyundai 320     3764.25  \n",
              "4     M4 to Factory  Hyundai 320     2143.39  \n",
              "...             ...          ...         ...  \n",
              "1971  M3 to Factory  Hyundai 250      478.75  \n",
              "1972  M3 to Factory  Hyundai 250       83.72  \n",
              "1973  M3 to Factory  Hyundai 250      698.09  \n",
              "1974  M3 to Factory  Hyundai 250      597.14  \n",
              "1975  M3 to Factory  Hyundai 250      673.08  \n",
              "\n",
              "[1968 rows x 9 columns]"
            ],
            "text/html": [
              "\n",
              "  <div id=\"df-d39266db-5abc-41c3-a0a4-52569cc24f35\" class=\"colab-df-container\">\n",
              "    <div>\n",
              "<style scoped>\n",
              "    .dataframe tbody tr th:only-of-type {\n",
              "        vertical-align: middle;\n",
              "    }\n",
              "\n",
              "    .dataframe tbody tr th {\n",
              "        vertical-align: top;\n",
              "    }\n",
              "\n",
              "    .dataframe thead th {\n",
              "        text-align: right;\n",
              "    }\n",
              "</style>\n",
              "<table border=\"1\" class=\"dataframe\">\n",
              "  <thead>\n",
              "    <tr style=\"text-align: right;\">\n",
              "      <th></th>\n",
              "      <th>Date</th>\n",
              "      <th>Month</th>\n",
              "      <th>Weather</th>\n",
              "      <th>Season</th>\n",
              "      <th>Week day</th>\n",
              "      <th>No. of trucks</th>\n",
              "      <th>Route</th>\n",
              "      <th>Loader</th>\n",
              "      <th>Hauled ore</th>\n",
              "    </tr>\n",
              "  </thead>\n",
              "  <tbody>\n",
              "    <tr>\n",
              "      <th>0</th>\n",
              "      <td>96.03.01</td>\n",
              "      <td>3.0</td>\n",
              "      <td>Sunny</td>\n",
              "      <td>Spring</td>\n",
              "      <td>Monday</td>\n",
              "      <td>29.0</td>\n",
              "      <td>M4 to Factory</td>\n",
              "      <td>Hyundai 320</td>\n",
              "      <td>5892.51</td>\n",
              "    </tr>\n",
              "    <tr>\n",
              "      <th>1</th>\n",
              "      <td>96.03.02</td>\n",
              "      <td>3.0</td>\n",
              "      <td>Sunny</td>\n",
              "      <td>Spring</td>\n",
              "      <td>Tuesday</td>\n",
              "      <td>27.0</td>\n",
              "      <td>M4 to Factory</td>\n",
              "      <td>Hyundai 320</td>\n",
              "      <td>5895.40</td>\n",
              "    </tr>\n",
              "    <tr>\n",
              "      <th>2</th>\n",
              "      <td>96.03.03</td>\n",
              "      <td>3.0</td>\n",
              "      <td>Sunny</td>\n",
              "      <td>Spring</td>\n",
              "      <td>Wednesday</td>\n",
              "      <td>13.0</td>\n",
              "      <td>M4 to Factory</td>\n",
              "      <td>Hyundai 320</td>\n",
              "      <td>1924.89</td>\n",
              "    </tr>\n",
              "    <tr>\n",
              "      <th>3</th>\n",
              "      <td>96.03.04</td>\n",
              "      <td>3.0</td>\n",
              "      <td>Sunny</td>\n",
              "      <td>Spring</td>\n",
              "      <td>Thursday</td>\n",
              "      <td>21.0</td>\n",
              "      <td>M4 to Factory</td>\n",
              "      <td>Hyundai 320</td>\n",
              "      <td>3764.25</td>\n",
              "    </tr>\n",
              "    <tr>\n",
              "      <th>4</th>\n",
              "      <td>96.03.06</td>\n",
              "      <td>3.0</td>\n",
              "      <td>Sunny</td>\n",
              "      <td>Spring</td>\n",
              "      <td>Saturday</td>\n",
              "      <td>15.0</td>\n",
              "      <td>M4 to Factory</td>\n",
              "      <td>Hyundai 320</td>\n",
              "      <td>2143.39</td>\n",
              "    </tr>\n",
              "    <tr>\n",
              "      <th>...</th>\n",
              "      <td>...</td>\n",
              "      <td>...</td>\n",
              "      <td>...</td>\n",
              "      <td>...</td>\n",
              "      <td>...</td>\n",
              "      <td>...</td>\n",
              "      <td>...</td>\n",
              "      <td>...</td>\n",
              "      <td>...</td>\n",
              "    </tr>\n",
              "    <tr>\n",
              "      <th>1971</th>\n",
              "      <td>00.03.24</td>\n",
              "      <td>3.0</td>\n",
              "      <td>Sunny</td>\n",
              "      <td>Spring</td>\n",
              "      <td>Monday</td>\n",
              "      <td>5.0</td>\n",
              "      <td>M3 to Factory</td>\n",
              "      <td>Hyundai 250</td>\n",
              "      <td>478.75</td>\n",
              "    </tr>\n",
              "    <tr>\n",
              "      <th>1972</th>\n",
              "      <td>00.03.25</td>\n",
              "      <td>3.0</td>\n",
              "      <td>Rainy</td>\n",
              "      <td>Spring</td>\n",
              "      <td>Tuesday</td>\n",
              "      <td>3.0</td>\n",
              "      <td>M3 to Factory</td>\n",
              "      <td>Hyundai 250</td>\n",
              "      <td>83.72</td>\n",
              "    </tr>\n",
              "    <tr>\n",
              "      <th>1973</th>\n",
              "      <td>00.03.26</td>\n",
              "      <td>3.0</td>\n",
              "      <td>Sunny</td>\n",
              "      <td>Spring</td>\n",
              "      <td>Wednesday</td>\n",
              "      <td>8.0</td>\n",
              "      <td>M3 to Factory</td>\n",
              "      <td>Hyundai 250</td>\n",
              "      <td>698.09</td>\n",
              "    </tr>\n",
              "    <tr>\n",
              "      <th>1974</th>\n",
              "      <td>00.03.27</td>\n",
              "      <td>3.0</td>\n",
              "      <td>Sunny</td>\n",
              "      <td>Spring</td>\n",
              "      <td>Thursday</td>\n",
              "      <td>8.0</td>\n",
              "      <td>M3 to Factory</td>\n",
              "      <td>Hyundai 250</td>\n",
              "      <td>597.14</td>\n",
              "    </tr>\n",
              "    <tr>\n",
              "      <th>1975</th>\n",
              "      <td>00.03.28</td>\n",
              "      <td>3.0</td>\n",
              "      <td>Sunny</td>\n",
              "      <td>Spring</td>\n",
              "      <td>Friday</td>\n",
              "      <td>8.0</td>\n",
              "      <td>M3 to Factory</td>\n",
              "      <td>Hyundai 250</td>\n",
              "      <td>673.08</td>\n",
              "    </tr>\n",
              "  </tbody>\n",
              "</table>\n",
              "<p>1968 rows × 9 columns</p>\n",
              "</div>\n",
              "    <div class=\"colab-df-buttons\">\n",
              "\n",
              "  <div class=\"colab-df-container\">\n",
              "    <button class=\"colab-df-convert\" onclick=\"convertToInteractive('df-d39266db-5abc-41c3-a0a4-52569cc24f35')\"\n",
              "            title=\"Convert this dataframe to an interactive table.\"\n",
              "            style=\"display:none;\">\n",
              "\n",
              "  <svg xmlns=\"http://www.w3.org/2000/svg\" height=\"24px\" viewBox=\"0 -960 960 960\">\n",
              "    <path d=\"M120-120v-720h720v720H120Zm60-500h600v-160H180v160Zm220 220h160v-160H400v160Zm0 220h160v-160H400v160ZM180-400h160v-160H180v160Zm440 0h160v-160H620v160ZM180-180h160v-160H180v160Zm440 0h160v-160H620v160Z\"/>\n",
              "  </svg>\n",
              "    </button>\n",
              "\n",
              "  <style>\n",
              "    .colab-df-container {\n",
              "      display:flex;\n",
              "      gap: 12px;\n",
              "    }\n",
              "\n",
              "    .colab-df-convert {\n",
              "      background-color: #E8F0FE;\n",
              "      border: none;\n",
              "      border-radius: 50%;\n",
              "      cursor: pointer;\n",
              "      display: none;\n",
              "      fill: #1967D2;\n",
              "      height: 32px;\n",
              "      padding: 0 0 0 0;\n",
              "      width: 32px;\n",
              "    }\n",
              "\n",
              "    .colab-df-convert:hover {\n",
              "      background-color: #E2EBFA;\n",
              "      box-shadow: 0px 1px 2px rgba(60, 64, 67, 0.3), 0px 1px 3px 1px rgba(60, 64, 67, 0.15);\n",
              "      fill: #174EA6;\n",
              "    }\n",
              "\n",
              "    .colab-df-buttons div {\n",
              "      margin-bottom: 4px;\n",
              "    }\n",
              "\n",
              "    [theme=dark] .colab-df-convert {\n",
              "      background-color: #3B4455;\n",
              "      fill: #D2E3FC;\n",
              "    }\n",
              "\n",
              "    [theme=dark] .colab-df-convert:hover {\n",
              "      background-color: #434B5C;\n",
              "      box-shadow: 0px 1px 3px 1px rgba(0, 0, 0, 0.15);\n",
              "      filter: drop-shadow(0px 1px 2px rgba(0, 0, 0, 0.3));\n",
              "      fill: #FFFFFF;\n",
              "    }\n",
              "  </style>\n",
              "\n",
              "    <script>\n",
              "      const buttonEl =\n",
              "        document.querySelector('#df-d39266db-5abc-41c3-a0a4-52569cc24f35 button.colab-df-convert');\n",
              "      buttonEl.style.display =\n",
              "        google.colab.kernel.accessAllowed ? 'block' : 'none';\n",
              "\n",
              "      async function convertToInteractive(key) {\n",
              "        const element = document.querySelector('#df-d39266db-5abc-41c3-a0a4-52569cc24f35');\n",
              "        const dataTable =\n",
              "          await google.colab.kernel.invokeFunction('convertToInteractive',\n",
              "                                                    [key], {});\n",
              "        if (!dataTable) return;\n",
              "\n",
              "        const docLinkHtml = 'Like what you see? Visit the ' +\n",
              "          '<a target=\"_blank\" href=https://colab.research.google.com/notebooks/data_table.ipynb>data table notebook</a>'\n",
              "          + ' to learn more about interactive tables.';\n",
              "        element.innerHTML = '';\n",
              "        dataTable['output_type'] = 'display_data';\n",
              "        await google.colab.output.renderOutput(dataTable, element);\n",
              "        const docLink = document.createElement('div');\n",
              "        docLink.innerHTML = docLinkHtml;\n",
              "        element.appendChild(docLink);\n",
              "      }\n",
              "    </script>\n",
              "  </div>\n",
              "\n",
              "\n",
              "<div id=\"df-01bb96f1-6592-4e0b-a6d6-1942a3ab47e6\">\n",
              "  <button class=\"colab-df-quickchart\" onclick=\"quickchart('df-01bb96f1-6592-4e0b-a6d6-1942a3ab47e6')\"\n",
              "            title=\"Suggest charts\"\n",
              "            style=\"display:none;\">\n",
              "\n",
              "<svg xmlns=\"http://www.w3.org/2000/svg\" height=\"24px\"viewBox=\"0 0 24 24\"\n",
              "     width=\"24px\">\n",
              "    <g>\n",
              "        <path d=\"M19 3H5c-1.1 0-2 .9-2 2v14c0 1.1.9 2 2 2h14c1.1 0 2-.9 2-2V5c0-1.1-.9-2-2-2zM9 17H7v-7h2v7zm4 0h-2V7h2v10zm4 0h-2v-4h2v4z\"/>\n",
              "    </g>\n",
              "</svg>\n",
              "  </button>\n",
              "\n",
              "<style>\n",
              "  .colab-df-quickchart {\n",
              "      --bg-color: #E8F0FE;\n",
              "      --fill-color: #1967D2;\n",
              "      --hover-bg-color: #E2EBFA;\n",
              "      --hover-fill-color: #174EA6;\n",
              "      --disabled-fill-color: #AAA;\n",
              "      --disabled-bg-color: #DDD;\n",
              "  }\n",
              "\n",
              "  [theme=dark] .colab-df-quickchart {\n",
              "      --bg-color: #3B4455;\n",
              "      --fill-color: #D2E3FC;\n",
              "      --hover-bg-color: #434B5C;\n",
              "      --hover-fill-color: #FFFFFF;\n",
              "      --disabled-bg-color: #3B4455;\n",
              "      --disabled-fill-color: #666;\n",
              "  }\n",
              "\n",
              "  .colab-df-quickchart {\n",
              "    background-color: var(--bg-color);\n",
              "    border: none;\n",
              "    border-radius: 50%;\n",
              "    cursor: pointer;\n",
              "    display: none;\n",
              "    fill: var(--fill-color);\n",
              "    height: 32px;\n",
              "    padding: 0;\n",
              "    width: 32px;\n",
              "  }\n",
              "\n",
              "  .colab-df-quickchart:hover {\n",
              "    background-color: var(--hover-bg-color);\n",
              "    box-shadow: 0 1px 2px rgba(60, 64, 67, 0.3), 0 1px 3px 1px rgba(60, 64, 67, 0.15);\n",
              "    fill: var(--button-hover-fill-color);\n",
              "  }\n",
              "\n",
              "  .colab-df-quickchart-complete:disabled,\n",
              "  .colab-df-quickchart-complete:disabled:hover {\n",
              "    background-color: var(--disabled-bg-color);\n",
              "    fill: var(--disabled-fill-color);\n",
              "    box-shadow: none;\n",
              "  }\n",
              "\n",
              "  .colab-df-spinner {\n",
              "    border: 2px solid var(--fill-color);\n",
              "    border-color: transparent;\n",
              "    border-bottom-color: var(--fill-color);\n",
              "    animation:\n",
              "      spin 1s steps(1) infinite;\n",
              "  }\n",
              "\n",
              "  @keyframes spin {\n",
              "    0% {\n",
              "      border-color: transparent;\n",
              "      border-bottom-color: var(--fill-color);\n",
              "      border-left-color: var(--fill-color);\n",
              "    }\n",
              "    20% {\n",
              "      border-color: transparent;\n",
              "      border-left-color: var(--fill-color);\n",
              "      border-top-color: var(--fill-color);\n",
              "    }\n",
              "    30% {\n",
              "      border-color: transparent;\n",
              "      border-left-color: var(--fill-color);\n",
              "      border-top-color: var(--fill-color);\n",
              "      border-right-color: var(--fill-color);\n",
              "    }\n",
              "    40% {\n",
              "      border-color: transparent;\n",
              "      border-right-color: var(--fill-color);\n",
              "      border-top-color: var(--fill-color);\n",
              "    }\n",
              "    60% {\n",
              "      border-color: transparent;\n",
              "      border-right-color: var(--fill-color);\n",
              "    }\n",
              "    80% {\n",
              "      border-color: transparent;\n",
              "      border-right-color: var(--fill-color);\n",
              "      border-bottom-color: var(--fill-color);\n",
              "    }\n",
              "    90% {\n",
              "      border-color: transparent;\n",
              "      border-bottom-color: var(--fill-color);\n",
              "    }\n",
              "  }\n",
              "</style>\n",
              "\n",
              "  <script>\n",
              "    async function quickchart(key) {\n",
              "      const quickchartButtonEl =\n",
              "        document.querySelector('#' + key + ' button');\n",
              "      quickchartButtonEl.disabled = true;  // To prevent multiple clicks.\n",
              "      quickchartButtonEl.classList.add('colab-df-spinner');\n",
              "      try {\n",
              "        const charts = await google.colab.kernel.invokeFunction(\n",
              "            'suggestCharts', [key], {});\n",
              "      } catch (error) {\n",
              "        console.error('Error during call to suggestCharts:', error);\n",
              "      }\n",
              "      quickchartButtonEl.classList.remove('colab-df-spinner');\n",
              "      quickchartButtonEl.classList.add('colab-df-quickchart-complete');\n",
              "    }\n",
              "    (() => {\n",
              "      let quickchartButtonEl =\n",
              "        document.querySelector('#df-01bb96f1-6592-4e0b-a6d6-1942a3ab47e6 button');\n",
              "      quickchartButtonEl.style.display =\n",
              "        google.colab.kernel.accessAllowed ? 'block' : 'none';\n",
              "    })();\n",
              "  </script>\n",
              "</div>\n",
              "\n",
              "    </div>\n",
              "  </div>\n"
            ],
            "application/vnd.google.colaboratory.intrinsic+json": {
              "type": "dataframe",
              "summary": "{\n  \"name\": \"df\",\n  \"rows\": 1968,\n  \"fields\": [\n    {\n      \"column\": \"Date\",\n      \"properties\": {\n        \"dtype\": \"string\",\n        \"num_unique_values\": 1337,\n        \"samples\": [\n          \"99.04.19\",\n          \"99.05.11\",\n          \"00.02.16\"\n        ],\n        \"semantic_type\": \"\",\n        \"description\": \"\"\n      }\n    },\n    {\n      \"column\": \"Month\",\n      \"properties\": {\n        \"dtype\": \"number\",\n        \"std\": 3.2964660341806087,\n        \"min\": 1.0,\n        \"max\": 12.0,\n        \"num_unique_values\": 12,\n        \"samples\": [\n          1.0,\n          12.0,\n          3.0\n        ],\n        \"semantic_type\": \"\",\n        \"description\": \"\"\n      }\n    },\n    {\n      \"column\": \"Weather\",\n      \"properties\": {\n        \"dtype\": \"category\",\n        \"num_unique_values\": 5,\n        \"samples\": [\n          \"Rainy\",\n          \"Foggy\",\n          \"Cloudy\"\n        ],\n        \"semantic_type\": \"\",\n        \"description\": \"\"\n      }\n    },\n    {\n      \"column\": \"Season\",\n      \"properties\": {\n        \"dtype\": \"category\",\n        \"num_unique_values\": 4,\n        \"samples\": [\n          \"Summer\",\n          \"Winter\",\n          \"Spring\"\n        ],\n        \"semantic_type\": \"\",\n        \"description\": \"\"\n      }\n    },\n    {\n      \"column\": \"Week day\",\n      \"properties\": {\n        \"dtype\": \"category\",\n        \"num_unique_values\": 7,\n        \"samples\": [\n          \"Monday\",\n          \"Tuesday\",\n          \"Sunday\"\n        ],\n        \"semantic_type\": \"\",\n        \"description\": \"\"\n      }\n    },\n    {\n      \"column\": \"No. of trucks\",\n      \"properties\": {\n        \"dtype\": \"number\",\n        \"std\": 7.342354104095787,\n        \"min\": 0.0,\n        \"max\": 36.0,\n        \"num_unique_values\": 37,\n        \"samples\": [\n          14.0,\n          18.0,\n          15.0\n        ],\n        \"semantic_type\": \"\",\n        \"description\": \"\"\n      }\n    },\n    {\n      \"column\": \"Route\",\n      \"properties\": {\n        \"dtype\": \"category\",\n        \"num_unique_values\": 9,\n        \"samples\": [\n          \"M2 to LG-stockpile\",\n          \"Sup to Factory\",\n          \"LG-stockpile to Factory\"\n        ],\n        \"semantic_type\": \"\",\n        \"description\": \"\"\n      }\n    },\n    {\n      \"column\": \"Loader\",\n      \"properties\": {\n        \"dtype\": \"category\",\n        \"num_unique_values\": 4,\n        \"samples\": [\n          \"Hyundai 250\",\n          \"Komatsu 200\",\n          \"Hyundai 320\"\n        ],\n        \"semantic_type\": \"\",\n        \"description\": \"\"\n      }\n    },\n    {\n      \"column\": \"Hauled ore\",\n      \"properties\": {\n        \"dtype\": \"number\",\n        \"std\": 917.4712248094536,\n        \"min\": 0.0,\n        \"max\": 5895.4,\n        \"num_unique_values\": 1910,\n        \"samples\": [\n          1008.98,\n          2196.26,\n          1358.63\n        ],\n        \"semantic_type\": \"\",\n        \"description\": \"\"\n      }\n    }\n  ]\n}"
            }
          },
          "metadata": {},
          "execution_count": 7
        }
      ]
    },
    {
      "cell_type": "code",
      "source": [
        "df['No. of trucks'].dropna()"
      ],
      "metadata": {
        "colab": {
          "base_uri": "https://localhost:8080/"
        },
        "id": "Yzra8QI-V-Bi",
        "outputId": "f9ede61d-3774-4e2c-fa7f-4941a539e646"
      },
      "execution_count": null,
      "outputs": [
        {
          "output_type": "execute_result",
          "data": {
            "text/plain": [
              "0       29.0\n",
              "1       27.0\n",
              "2       13.0\n",
              "3       21.0\n",
              "4       15.0\n",
              "        ... \n",
              "1971     5.0\n",
              "1972     3.0\n",
              "1973     8.0\n",
              "1974     8.0\n",
              "1975     8.0\n",
              "Name: No. of trucks, Length: 1971, dtype: float64"
            ]
          },
          "metadata": {},
          "execution_count": 5
        }
      ]
    },
    {
      "cell_type": "code",
      "source": [
        "df['No. of trucks'].isnull().sum()"
      ],
      "metadata": {
        "colab": {
          "base_uri": "https://localhost:8080/"
        },
        "id": "yGmKMmNaWgBW",
        "outputId": "8e9a0b2a-f4fe-481f-e817-8c10528ed7dd"
      },
      "execution_count": null,
      "outputs": [
        {
          "output_type": "execute_result",
          "data": {
            "text/plain": [
              "5"
            ]
          },
          "metadata": {},
          "execution_count": 14
        }
      ]
    },
    {
      "cell_type": "code",
      "source": [
        "df = df.dropna(subset=['No. of trucks'])"
      ],
      "metadata": {
        "id": "Zry6M3TfWqs3"
      },
      "execution_count": null,
      "outputs": []
    },
    {
      "cell_type": "code",
      "source": [
        "df[\"No. of trucks\"]=df[\"No. of trucks\"].astype(int)"
      ],
      "metadata": {
        "id": "szPsvo_wfNo6"
      },
      "execution_count": null,
      "outputs": []
    },
    {
      "cell_type": "code",
      "source": [
        "import pandas as pd\n",
        "from sklearn.preprocessing import LabelEncoder, MinMaxScaler\n",
        "from sklearn.model_selection import train_test_split\n",
        "from sklearn.ensemble import GradientBoostingRegressor\n",
        "from sklearn.metrics import r2_score\n",
        "\n",
        "# Load the dataset\n",
        "df = pd.read_csv('Final (1) (1).csv')  # Update with your file path\n",
        "\n",
        "# Keep only the relevant columns\n",
        "df_relevant = df[['Month', 'No. of trucks', 'Route', 'Loader', 'Hauled ore']]\n",
        "\n",
        "# Drop any rows with missing values (if any)\n",
        "df_relevant = df_relevant.dropna()\n",
        "\n",
        "# 1. Label Encoding for 'Route' and 'Loader'\n",
        "label_encoder_routes = LabelEncoder()\n",
        "label_encoder_loader = LabelEncoder()\n",
        "\n",
        "df_relevant['Route'] = label_encoder_routes.fit_transform(df_relevant['Route'])\n",
        "df_relevant['Loader'] = label_encoder_loader.fit_transform(df_relevant['Loader'])\n",
        "\n",
        "# 2. Min-Max Scaling for numerical features\n",
        "scaler = MinMaxScaler()\n",
        "\n",
        "# Numerical features to scale\n",
        "#numerical_features = ['Month', 'No. of trucks']\n",
        "#df_relevant[numerical_features] = scaler.fit_transform(df_relevant[numerical_features])\n",
        "\n",
        "# Separate features and target\n",
        "X = df_relevant.drop(columns=['Hauled ore'])\n",
        "y = df_relevant['Hauled ore']\n",
        "\n",
        "# 3. Split the data into training and testing sets\n",
        "X_train, X_test, y_train, y_test = train_test_split(X, y, test_size=0.2, random_state=42)\n",
        "\n",
        "# 4. Initialize and train the Gradient Boosting Regressor model\n",
        "gbr_model = GradientBoostingRegressor(random_state=42)\n",
        "gbr_model.fit(X_train, y_train)\n",
        "\n",
        "# Predict on the test data\n",
        "y_pred = gbr_model.predict(X_test)\n",
        "\n",
        "# 5. Evaluate the model performance using R² score\n",
        "gbr_r2 = r2_score(y_test, y_pred)\n",
        "print(f'R² score: {gbr_r2}')\n"
      ],
      "metadata": {
        "colab": {
          "base_uri": "https://localhost:8080/"
        },
        "id": "P-WHUXLGC8wN",
        "outputId": "3b8915da-ee9f-4ed4-ca0b-c95cbee848d1"
      },
      "execution_count": null,
      "outputs": [
        {
          "output_type": "stream",
          "name": "stdout",
          "text": [
            "R² score: 0.6803869810319995\n"
          ]
        }
      ]
    },
    {
      "cell_type": "code",
      "source": [],
      "metadata": {
        "id": "K-yVxrX_fqj5"
      },
      "execution_count": null,
      "outputs": []
    },
    {
      "cell_type": "code",
      "source": [
        "unique_loaders = df_relevant['Loader'].unique()\n",
        "unique_trucks = df_relevant['No. of trucks'].unique()\n",
        "\n",
        "\n",
        "print(unique_loaders)\n",
        "print(unique_trucks)"
      ],
      "metadata": {
        "colab": {
          "base_uri": "https://localhost:8080/"
        },
        "id": "WbS-qVo1evXf",
        "outputId": "5bfac8b0-6a16-480a-bda1-125fad45b94f"
      },
      "execution_count": null,
      "outputs": [
        {
          "output_type": "stream",
          "name": "stdout",
          "text": [
            "[1 0 3 2]\n",
            "[0.80555556 0.75       0.36111111 0.58333333 0.41666667 0.47222222\n",
            " 0.44444444 0.52777778 0.61111111 0.55555556 0.63888889 0.11111111\n",
            " 0.27777778 0.5        0.02777778 0.16666667 0.33333333 0.38888889\n",
            " 0.30555556 0.66666667 0.22222222 0.77777778 0.86111111 0.88888889\n",
            " 0.91666667 0.83333333 0.05555556 0.13888889 0.19444444 0.25\n",
            " 0.08333333 0.         0.72222222 0.97222222 0.69444444 1.\n",
            " 0.94444444]\n"
          ]
        }
      ]
    },
    {
      "cell_type": "code",
      "source": [
        "import pandas as pd\n",
        "from itertools import product\n",
        "\n",
        "# Define the specific values for Month and Route\n",
        "specific_month = 4\n",
        "specific_route = \"M1 to LG-stockpile\"\n",
        "\n",
        "# Get the unique values of 'Loader' and 'No. of trucks' from the original dataset\n",
        "unique_loaders = df_relevant['Loader'].unique()\n",
        "unique_trucks = df_relevant['No. of trucks'].unique()\n",
        "\n",
        "# Generate all possible unique combinations of Loader and No. of trucks\n",
        "combinations = list(product(unique_loaders, unique_trucks))\n",
        "\n",
        "# Create a DataFrame from these combinations\n",
        "predict_df = pd.DataFrame(combinations, columns=['Loader', 'No. of trucks'])\n",
        "\n",
        "# Add the fixed values for Month and Route to the DataFrame\n",
        "predict_df['Month'] = specific_month\n",
        "predict_df['Route'] = specific_route\n",
        "\n",
        "# Label Encode 'Route' using the same encoder used in training\n",
        "predict_df['Route'] = label_encoder_routes.transform(predict_df['Route'])\n",
        "\n",
        "# Scale the 'Month' and 'No. of trucks' using the same scaler used in training\n",
        "#predict_df[['Month', 'No. of trucks']] = scaler.transform(predict_df[['Month', 'No. of trucks']])\n",
        "\n",
        "# Rearrange columns to match the training feature order\n",
        "predict_df = predict_df[['Month', 'No. of trucks', 'Route', 'Loader']]\n",
        "\n",
        "# Predict the Hauled ore using the trained Gradient Boosting Regressor model\n",
        "predict_df['Predicted Hauled ore'] = gbr_model.predict(predict_df)\n",
        "\n",
        "# Convert 'Loader' back to original labels if needed (reverse encoding)\n",
        "predict_df['Loader'] = label_encoder_loader.inverse_transform(predict_df['Loader'])\n",
        "\n",
        "# Display the resulting DataFrame with predictions\n",
        "print(predict_df[['Loader', 'No. of trucks', 'Predicted Hauled ore']])\n"
      ],
      "metadata": {
        "colab": {
          "base_uri": "https://localhost:8080/"
        },
        "id": "OUj2V_-f1amQ",
        "outputId": "6f9353b9-15c7-45c9-947e-7d49357a5a9e"
      },
      "execution_count": null,
      "outputs": [
        {
          "output_type": "stream",
          "name": "stdout",
          "text": [
            "          Loader  No. of trucks  Predicted Hauled ore\n",
            "0    Hyundai 320           29.0           4404.061118\n",
            "1    Hyundai 320           27.0           4432.542532\n",
            "2    Hyundai 320           13.0           2729.283502\n",
            "3    Hyundai 320           21.0           3983.483782\n",
            "4    Hyundai 320           15.0           2864.475040\n",
            "..           ...            ...                   ...\n",
            "143  Komatsu 200           26.0           4253.721980\n",
            "144  Komatsu 200           35.0           4957.876574\n",
            "145  Komatsu 200           25.0           4000.933747\n",
            "146  Komatsu 200           36.0           4725.307349\n",
            "147  Komatsu 200           34.0           4361.448393\n",
            "\n",
            "[148 rows x 3 columns]\n"
          ]
        }
      ]
    },
    {
      "cell_type": "code",
      "source": [
        "predict_df[\"No. of trucks\"]=predict_df[\"No. of trucks\"].astype(int)"
      ],
      "metadata": {
        "id": "xFxRCqJWeUE1"
      },
      "execution_count": null,
      "outputs": []
    },
    {
      "cell_type": "code",
      "source": [
        "filtered_df = predict_df[(predict_df['Loader'] == \"Hyundai 320\") & (predict_df['No. of trucks'] == 19)]\n",
        "\n",
        "if len(filtered_df) > 0:\n",
        "    predicted_hauled_ore = filtered_df['Predicted Hauled ore'].values[0]\n",
        "    print(f\"Predicted Hauled Ore for Hyundai 320 with 19 trucks: {predicted_hauled_ore}\")\n",
        "else:\n",
        "    print(\"No matching record found in the DataFrame.\")"
      ],
      "metadata": {
        "colab": {
          "base_uri": "https://localhost:8080/"
        },
        "id": "O-HaYcVliggP",
        "outputId": "88f15895-590e-4097-d2ff-d9cc6cdbeed5"
      },
      "execution_count": null,
      "outputs": [
        {
          "output_type": "stream",
          "name": "stdout",
          "text": [
            "Predicted Hauled Ore for Hyundai 320 with 19 trucks: 3690.7560383012315\n"
          ]
        }
      ]
    },
    {
      "cell_type": "markdown",
      "source": [
        "Linear Regression with Label Encoder"
      ],
      "metadata": {
        "id": "1tnPTWwU1ocU"
      }
    },
    {
      "cell_type": "markdown",
      "source": [
        "Linear Regression"
      ],
      "metadata": {
        "id": "oj9WqCbUVwBo"
      }
    },
    {
      "cell_type": "code",
      "source": [
        "from sklearn.impute import SimpleImputer\n",
        "from sklearn.compose import ColumnTransformer\n",
        "from sklearn.preprocessing import OneHotEncoder, MinMaxScaler\n",
        "from sklearn.pipeline import Pipeline\n",
        "from sklearn.model_selection import train_test_split\n",
        "\n",
        "from sklearn.metrics import r2_score\n",
        "\n",
        "# Assuming df is your DataFrame containing the dataset\n",
        "# Columns: \"Season\", \"Month\", \"Number of Trucks\", \"Route\", \"Loader\", \"Hauled Ore\"\n",
        "\n",
        "# Extract features and target variable\n",
        "X = df[[\"Season\", \"Month\", \"No. of trucks\", \"Route\", \"Loader\"]]\n",
        "y = df[\"Hauled ore\"]\n",
        "\n",
        "# Separate numeric and non-numeric columns\n",
        "numeric_cols = X.select_dtypes(include='number').columns\n",
        "non_numeric_cols = X.select_dtypes(exclude='number').columns\n",
        "\n",
        "# Define preprocessing steps\n",
        "numeric_transformer = Pipeline(steps=[\n",
        "    ('imputer', SimpleImputer(strategy='mean')),\n",
        "    ('scaler', MinMaxScaler())\n",
        "])\n",
        "\n",
        "non_numeric_transformer = Pipeline(steps=[\n",
        "    ('imputer', SimpleImputer(strategy='most_frequent')),\n",
        "    ('onehot', OneHotEncoder(handle_unknown='ignore'))\n",
        "])\n",
        "\n",
        "preprocessor = ColumnTransformer(\n",
        "    transformers=[\n",
        "        ('num', numeric_transformer, numeric_cols),\n",
        "        ('non_num', non_numeric_transformer, non_numeric_cols)\n",
        "    ])\n",
        "\n",
        "# Split data into training and testing sets\n",
        "X_train, X_test, y_train, y_test = train_test_split(X, y, test_size=0.2, random_state=42)\n",
        "\n",
        "from sklearn.linear_model import LinearRegression\n",
        "\n",
        "# Create a pipeline with preprocessing and Linear Regression model\n",
        "model = Pipeline(steps=[\n",
        "    ('preprocessor', preprocessor),\n",
        "    ('regressor', LinearRegression(fit_intercept=True, copy_X=True, n_jobs=None))\n",
        "])\n",
        "\n",
        "# Fit the model to the training data\n",
        "model.fit(X_train, y_train)\n",
        "\n",
        "# Predictions on the testing set\n",
        "y_test_pred = model.predict(X_test)\n",
        "\n",
        "# Calculate R^2 score for testing set\n",
        "test_r2_score_LR = r2_score(y_test, y_test_pred)\n",
        "\n",
        "print(f\"Test R^2 Score: {test_r2_score_LR:.4f}\")\n"
      ],
      "metadata": {
        "colab": {
          "base_uri": "https://localhost:8080/"
        },
        "id": "8NXOt4lUrmub",
        "outputId": "7de5536f-b517-4034-d83f-70d10caf0b99"
      },
      "execution_count": null,
      "outputs": [
        {
          "output_type": "stream",
          "name": "stdout",
          "text": [
            "Test R^2 Score: 0.7236\n"
          ]
        }
      ]
    },
    {
      "cell_type": "markdown",
      "source": [
        "Decision Tree"
      ],
      "metadata": {
        "id": "zeAga9Shsk8V"
      }
    },
    {
      "cell_type": "code",
      "source": [
        "from sklearn.tree import DecisionTreeRegressor\n",
        "# Create a pipeline with preprocessor and Decision Tree Regression model\n",
        "model = Pipeline(steps=[('preprocessor', preprocessor),\n",
        "                        ('regressor', DecisionTreeRegressor(random_state=42))])\n",
        "\n",
        "# Fit the model to the training data\n",
        "model.fit(X_train, y_train)\n",
        "\n",
        "# Predictions on the testing set\n",
        "y_test_pred = model.predict(X_test)\n",
        "\n",
        "# Calculate R^2 score for testing set\n",
        "test_r2_score_DT = r2_score(y_test, y_test_pred)\n",
        "\n",
        "print(f\"Test R^2 Score: {test_r2_score_DT:.4f}\")\n"
      ],
      "metadata": {
        "colab": {
          "base_uri": "https://localhost:8080/"
        },
        "id": "mLhz4PgfsL5P",
        "outputId": "a55ff303-3a61-4f22-f06a-a89d34c72ae0"
      },
      "execution_count": null,
      "outputs": [
        {
          "output_type": "stream",
          "name": "stdout",
          "text": [
            "Test R^2 Score: 0.7111\n"
          ]
        }
      ]
    },
    {
      "cell_type": "markdown",
      "source": [
        "KNN"
      ],
      "metadata": {
        "id": "sVMdhWhyswkf"
      }
    },
    {
      "cell_type": "code",
      "source": [
        "from sklearn.neighbors import KNeighborsRegressor\n",
        "# Create a pipeline with preprocessor and KNN Regression model\n",
        "model = Pipeline(steps=[('preprocessor', preprocessor),\n",
        "                        ('regressor', KNeighborsRegressor(n_neighbors=5,weights='uniform',algorithm='auto',leaf_size=30))])\n",
        "\n",
        "# Fit the model to the training data\n",
        "model.fit(X_train, y_train)\n",
        "\n",
        "# Predictions on the testing set\n",
        "y_test_pred = model.predict(X_test)\n",
        "\n",
        "# Calculate R^2 score for testing set\n",
        "test_r2_score_KNN = r2_score(y_test, y_test_pred)\n",
        "\n",
        "print(f\"Test R^2 Score: {test_r2_score_KNN:.4f}\")"
      ],
      "metadata": {
        "colab": {
          "base_uri": "https://localhost:8080/"
        },
        "id": "KFG3Peyzsvlo",
        "outputId": "49932c0d-4839-4aeb-ffa2-224b3636fa8c"
      },
      "execution_count": null,
      "outputs": [
        {
          "output_type": "stream",
          "name": "stdout",
          "text": [
            "Test R^2 Score: 0.7184\n"
          ]
        }
      ]
    },
    {
      "cell_type": "markdown",
      "source": [
        "Random Forest"
      ],
      "metadata": {
        "id": "JTaz0Wn1s-zg"
      }
    },
    {
      "cell_type": "code",
      "source": [
        "from sklearn.ensemble import RandomForestRegressor\n",
        "# Create a pipeline with preprocessor and Random Forest Regression model\n",
        "model = Pipeline(steps=[('preprocessor', preprocessor),\n",
        "                        ('regressor', RandomForestRegressor(random_state=42))])\n",
        "\n",
        "# Fit the model to the training data\n",
        "model.fit(X_train, y_train)\n",
        "\n",
        "# Predictions on the testing set\n",
        "y_test_pred = model.predict(X_test)\n",
        "\n",
        "# Calculate R^2 score for testing set\n",
        "test_r2_score_RF = r2_score(y_test, y_test_pred)\n",
        "\n",
        "print(f\"Test R^2 Score: {test_r2_score_RF:.4f}\")"
      ],
      "metadata": {
        "colab": {
          "base_uri": "https://localhost:8080/"
        },
        "id": "JUyNSyX0tHk1",
        "outputId": "73729b97-2129-46a4-e9c1-d5f66bd10689"
      },
      "execution_count": null,
      "outputs": [
        {
          "output_type": "stream",
          "name": "stdout",
          "text": [
            "Test R^2 Score: 0.7573\n"
          ]
        }
      ]
    },
    {
      "cell_type": "markdown",
      "source": [
        "Gradient Boosting"
      ],
      "metadata": {
        "id": "xGwaY13Ptlnj"
      }
    },
    {
      "cell_type": "code",
      "source": [
        "from sklearn.ensemble import GradientBoostingRegressor\n",
        "# Create a pipeline with preprocessor and Gradient Boosting Decision Tree Regression model\n",
        "model = Pipeline(steps=[('preprocessor', preprocessor),\n",
        "                        ('regressor', GradientBoostingRegressor(random_state=42))])\n",
        "\n",
        "# Fit the model to the training data\n",
        "model.fit(X_train, y_train)\n",
        "\n",
        "# Predictions on the testing set\n",
        "y_test_pred = model.predict(X_test)\n",
        "\n",
        "# Calculate R^2 score for testing set\n",
        "test_r2_score_GB = r2_score(y_test, y_test_pred)\n",
        "\n",
        "print(f\"Test R^2 Score: {test_r2_score_GB:.4f}\")"
      ],
      "metadata": {
        "colab": {
          "base_uri": "https://localhost:8080/"
        },
        "id": "34K7rsert0eu",
        "outputId": "aac4d4eb-8d61-479e-956e-194aa7d81c2c"
      },
      "execution_count": null,
      "outputs": [
        {
          "output_type": "stream",
          "name": "stdout",
          "text": [
            "Test R^2 Score: 0.7713\n"
          ]
        }
      ]
    },
    {
      "cell_type": "code",
      "source": [
        "import pandas as pd\n",
        "import matplotlib.pyplot as plt\n",
        "\n",
        "# Assuming df is your DataFrame containing the categorical variable\n",
        "# For example, let's say you have a DataFrame df with a column \"Category\"\n",
        "\n",
        "# Calculate percentage of each category\n",
        "#counts = [test_r2_score_LR*100,test_r2_score_DT*100,test_r2_score_KNN*100,test_r2_score_RF*100,test_r2_score_GB*100]\n",
        "\n",
        "import matplotlib.pyplot as plt\n",
        "\n",
        "# Assuming you have labels and their corresponding percentages\n",
        "labels = [\"Linear Regression\", \"Decision Tree\", \"K Nearest Neighbour\", \"Random Forest\",\"Gradient Boosting\"]  # Example labels\n",
        "percentages = [test_r2_score_LR*100,test_r2_score_DT*100,test_r2_score_KNN*100,test_r2_score_RF*100,test_r2_score_GB*100]  # Example percentages\n",
        "\n",
        "# Create bar plot\n",
        "plt.figure(figsize=(10, 6))\n",
        "plt.bar(labels, percentages, color='skyblue')\n",
        "plt.title('R2 Score accuracy of models')\n",
        "plt.xlabel('ML Algorithms')\n",
        "plt.ylabel('Accuracy%')\n",
        "plt.ylim(60, 90)  # Set y-axis limit to 0-100\n",
        "plt.xticks(rotation=45)  # Rotate x-labels for better visibility\n",
        "plt.tight_layout()  # Adjust layout to prevent clipping of labels\n",
        "plt.show()\n"
      ],
      "metadata": {
        "colab": {
          "base_uri": "https://localhost:8080/",
          "height": 269
        },
        "id": "K5LRgxQ9h8N4",
        "outputId": "c6b770d6-ad44-4b1d-99a1-ddad0813b96b"
      },
      "execution_count": null,
      "outputs": [
        {
          "output_type": "error",
          "ename": "NameError",
          "evalue": "name 'test_r2_score_KNN' is not defined",
          "traceback": [
            "\u001b[0;31m---------------------------------------------------------------------------\u001b[0m",
            "\u001b[0;31mNameError\u001b[0m                                 Traceback (most recent call last)",
            "\u001b[0;32m<ipython-input-8-451b2d7ac05c>\u001b[0m in \u001b[0;36m<cell line: 14>\u001b[0;34m()\u001b[0m\n\u001b[1;32m     12\u001b[0m \u001b[0;31m# Assuming you have labels and their corresponding percentages\u001b[0m\u001b[0;34m\u001b[0m\u001b[0;34m\u001b[0m\u001b[0m\n\u001b[1;32m     13\u001b[0m \u001b[0mlabels\u001b[0m \u001b[0;34m=\u001b[0m \u001b[0;34m[\u001b[0m\u001b[0;34m\"Linear Regression\"\u001b[0m\u001b[0;34m,\u001b[0m \u001b[0;34m\"Decision Tree\"\u001b[0m\u001b[0;34m,\u001b[0m \u001b[0;34m\"K Nearest Neighbour\"\u001b[0m\u001b[0;34m,\u001b[0m \u001b[0;34m\"Random Forest\"\u001b[0m\u001b[0;34m,\u001b[0m\u001b[0;34m\"Gradient Boosting\"\u001b[0m\u001b[0;34m]\u001b[0m  \u001b[0;31m# Example labels\u001b[0m\u001b[0;34m\u001b[0m\u001b[0;34m\u001b[0m\u001b[0m\n\u001b[0;32m---> 14\u001b[0;31m \u001b[0mpercentages\u001b[0m \u001b[0;34m=\u001b[0m \u001b[0;34m[\u001b[0m\u001b[0mtest_r2_score_LR\u001b[0m\u001b[0;34m*\u001b[0m\u001b[0;36m100\u001b[0m\u001b[0;34m,\u001b[0m\u001b[0mtest_r2_score_DT\u001b[0m\u001b[0;34m*\u001b[0m\u001b[0;36m100\u001b[0m\u001b[0;34m,\u001b[0m\u001b[0mtest_r2_score_KNN\u001b[0m\u001b[0;34m*\u001b[0m\u001b[0;36m100\u001b[0m\u001b[0;34m,\u001b[0m\u001b[0mtest_r2_score_RF\u001b[0m\u001b[0;34m*\u001b[0m\u001b[0;36m100\u001b[0m\u001b[0;34m,\u001b[0m\u001b[0mtest_r2_score_GB\u001b[0m\u001b[0;34m*\u001b[0m\u001b[0;36m100\u001b[0m\u001b[0;34m]\u001b[0m  \u001b[0;31m# Example percentages\u001b[0m\u001b[0;34m\u001b[0m\u001b[0;34m\u001b[0m\u001b[0m\n\u001b[0m\u001b[1;32m     15\u001b[0m \u001b[0;34m\u001b[0m\u001b[0m\n\u001b[1;32m     16\u001b[0m \u001b[0;31m# Create bar plot\u001b[0m\u001b[0;34m\u001b[0m\u001b[0;34m\u001b[0m\u001b[0m\n",
            "\u001b[0;31mNameError\u001b[0m: name 'test_r2_score_KNN' is not defined"
          ]
        }
      ]
    },
    {
      "cell_type": "code",
      "source": [
        "import numpy as np\n",
        "\n",
        "# Prepare input data for prediction\n",
        "# Assuming you have the loader type and number of trucks for prediction\n",
        "loader = \"Komatsu 200\"  # Example loader type\n",
        "num_trucks = 16  # Example number of trucks\n",
        "month = 4  # Fixed month\n",
        "\n",
        "# Create a DataFrame with the input data\n",
        "input_data = pd.DataFrame({\"Season\": ['Spring'],  # Assuming season is fixed to \"Spring\"\n",
        "                           \"Month\": [month],  # Fixed month\n",
        "                           \"No. of trucks\": [num_trucks],\n",
        "                           \"Route\": ['M4 to Factory'],  # Assuming route is fixed to \"Route A\"\n",
        "                           \"Loader\": [loader]})\n",
        "\n",
        "# Use the trained model to make predictions\n",
        "predicted_ore = model.predict(input_data)\n",
        "\n",
        "print(f\"Predicted Hauled Ore for {loader} with {num_trucks} trucks in month {month}: {predicted_ore[0]:.2f} tonnes\")\n"
      ],
      "metadata": {
        "colab": {
          "base_uri": "https://localhost:8080/"
        },
        "id": "0yJy0nVI0bFN",
        "outputId": "e9e9bcd5-4a0d-4631-957d-c70947b2073c"
      },
      "execution_count": null,
      "outputs": [
        {
          "output_type": "stream",
          "name": "stdout",
          "text": [
            "Predicted Hauled Ore for Komatsu 200 with 16 trucks in month 4: 2383.86 tonnes\n"
          ]
        }
      ]
    },
    {
      "cell_type": "markdown",
      "source": [
        "[\"Season\", \"Month\", \"No. of trucks\", \"Route\", \"Loader\"]"
      ],
      "metadata": {
        "id": "kPBzVDuh5yP8"
      }
    },
    {
      "cell_type": "code",
      "source": [
        "print(df['Month'].unique())\n",
        "print(df['No. of trucks'].unique())\n",
        "print(df['Route'].unique())\n",
        "print(df['Loader'].unique())\n",
        "print(df['Season'].unique())"
      ],
      "metadata": {
        "colab": {
          "base_uri": "https://localhost:8080/"
        },
        "id": "PGfIU0L-5qV3",
        "outputId": "532f31ba-aa3b-41ec-b96b-3cf07f3e21a1"
      },
      "execution_count": null,
      "outputs": [
        {
          "output_type": "stream",
          "name": "stdout",
          "text": [
            "[ 3.  4.  5.  6.  7.  8.  9. 10. 11. 12.  1.  2. nan]\n",
            "[29. 27. 13. 21. 15. 17. 16. 19. 22. 20. 23.  4. 10. 18.  1.  6. 12. 14.\n",
            " 11. 24.  8. 28. 31. 32. 33. 30.  2.  5.  7.  9.  3.  0. 26. 35. 25. 36.\n",
            " 34. nan]\n",
            "['M4 to Factory' 'Sup to Factory' 'M1 to Factory' 'M1 to LG-stockpile'\n",
            " 'M4 to LG-stockpile' 'LG-stockpile to Factory' 'M2 to Factory'\n",
            " 'M2 to LG-stockpile' 'M3 to Factory']\n",
            "['Hyundai 320' 'Hyundai 250' 'Komatsu 220' 'Komatsu 200']\n",
            "['Spring' 'Summer' 'Fall' 'Winter']\n"
          ]
        }
      ]
    },
    {
      "cell_type": "code",
      "source": [
        "from sklearn.impute import SimpleImputer\n",
        "from sklearn.compose import ColumnTransformer\n",
        "from sklearn.preprocessing import OneHotEncoder, MinMaxScaler\n",
        "from sklearn.pipeline import Pipeline\n",
        "from sklearn.model_selection import train_test_split\n",
        "\n",
        "from sklearn.metrics import r2_score\n",
        "\n",
        "# Assuming df is your DataFrame containing the dataset\n",
        "# Columns: \"Season\", \"Month\", \"Number of Trucks\", \"Route\", \"Loader\", \"Hauled Ore\"\n",
        "\n",
        "# Extract features and target variable\n",
        "X = df[[\"Month\", \"No. of trucks\", \"Loader\"]]\n",
        "y = df[\"Hauled ore\"]\n",
        "\n",
        "# Separate numeric and non-numeric columns\n",
        "numeric_cols = X.select_dtypes(include='number').columns\n",
        "non_numeric_cols = X.select_dtypes(exclude='number').columns\n",
        "\n",
        "# Define preprocessing steps\n",
        "numeric_transformer = Pipeline(steps=[\n",
        "    ('imputer', SimpleImputer(strategy='mean')),\n",
        "    ('scaler', MinMaxScaler())\n",
        "])\n",
        "\n",
        "non_numeric_transformer = Pipeline(steps=[\n",
        "    ('imputer', SimpleImputer(strategy='most_frequent')),\n",
        "    ('onehot', OneHotEncoder(handle_unknown='ignore'))\n",
        "])\n",
        "\n",
        "preprocessor = ColumnTransformer(\n",
        "    transformers=[\n",
        "        ('num', numeric_transformer, numeric_cols),\n",
        "        ('non_num', non_numeric_transformer, non_numeric_cols)\n",
        "    ])\n",
        "\n",
        "# Split data into training and testing sets\n",
        "X_train, X_test, y_train, y_test = train_test_split(X, y, test_size=0.2, random_state=42)\n",
        "\n",
        "from sklearn.ensemble import GradientBoostingRegressor\n",
        "# Create a pipeline with preprocessor and Gradient Boosting Decision Tree Regression model\n",
        "model = Pipeline(steps=[('preprocessor', preprocessor),\n",
        "                        ('regressor', GradientBoostingRegressor(random_state=42))])\n",
        "\n",
        "# Fit the model to the training data\n",
        "model.fit(X_train, y_train)\n",
        "\n",
        "# Predictions on the testing set\n",
        "y_test_pred = model.predict(X_test)\n",
        "\n",
        "# Calculate R^2 score for testing set\n",
        "test_r2_score_GB = r2_score(y_test, y_test_pred)\n",
        "\n",
        "print(f\"Test R^2 Score: {test_r2_score_GB:.4f}\")"
      ],
      "metadata": {
        "colab": {
          "base_uri": "https://localhost:8080/"
        },
        "id": "pzVchDCBRvjB",
        "outputId": "ba88d43e-d88e-4dd0-f945-43b64ede24a1"
      },
      "execution_count": null,
      "outputs": [
        {
          "output_type": "stream",
          "name": "stdout",
          "text": [
            "Test R^2 Score: 0.6577\n"
          ]
        }
      ]
    },
    {
      "cell_type": "code",
      "source": [
        "import itertools\n",
        "import matplotlib.pyplot as plt\n",
        "\n",
        "# Create combinations of loader type and number of trucks\n",
        "loader_types = [\"Hyundai 250\", \"Hyundai 320\", \"Komatsu 200\", \"Komatsu 220\"]\n",
        "num_trucks = [16, 17, 18, 19, 20, 21, 22]\n",
        "\n",
        "# Create all combinations of loader type and number of trucks\n",
        "combinations = list(itertools.product(loader_types, num_trucks))\n",
        "\n",
        "# Prepare input data for all combinations\n",
        "input_data = pd.DataFrame(combinations, columns=[\"Loader\", \"No. of trucks\"])\n",
        "\n",
        "# Set month to 4 for all combinations\n",
        "input_data[\"Month\"] = 4\n",
        "\n",
        "# Predict hauled ore for each combination\n",
        "predicted_ore = model.predict(input_data)\n",
        "\n",
        "# Plot the predicted hauled ore values\n",
        "plt.figure(figsize=(10, 6))\n",
        "plt.plot(predicted_ore, marker='o', linestyle='-')\n",
        "plt.title('Predicted Hauled Ore for Loader Types and Number of Trucks (Month = 4)')\n",
        "plt.xlabel('Combination')\n",
        "plt.ylabel('Predicted Hauled Ore (tonnes)')\n",
        "plt.xticks(ticks=range(len(input_data)), labels=[f'{loader} - {num_truck} trucks' for loader, num_truck in zip(input_data['Loader'], input_data['No. of trucks'])], rotation=45)\n",
        "plt.grid(True)\n",
        "plt.tight_layout()\n",
        "plt.show()\n"
      ],
      "metadata": {
        "colab": {
          "base_uri": "https://localhost:8080/",
          "height": 607
        },
        "id": "rB19YTRCRznK",
        "outputId": "c3119151-3b14-42d0-fa3d-2f55b98a26f6"
      },
      "execution_count": null,
      "outputs": [
        {
          "output_type": "display_data",
          "data": {
            "text/plain": [
              "<Figure size 1000x600 with 1 Axes>"
            ],
            "image/png": "[encoded data removed]"
          },
          "metadata": {}
        }
      ]
    }
  ]
}